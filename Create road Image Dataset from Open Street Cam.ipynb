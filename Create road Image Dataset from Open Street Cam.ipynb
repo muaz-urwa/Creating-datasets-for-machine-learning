{
 "cells": [
  {
   "cell_type": "markdown",
   "metadata": {},
   "source": [
    "### Road image dataset from Open Street Cam\n",
    "This notebook does the following:\n",
    "- Get geo coordinates along the roads in New york from new york streets shape file\n",
    "- Uses these coordinates to extract relevant track ids from open street cam\n",
    "- Extracts and saves images from these track ids."
   ]
  },
  {
   "cell_type": "code",
   "execution_count": 66,
   "metadata": {},
   "outputs": [],
   "source": [
    "import numpy as np\n",
    "import pandas as pd\n",
    "import geopandas as gpd\n",
    "\n",
    "try:\n",
    "    from urllib import urlretrieve as urlretrieve\n",
    "except ImportError:\n",
    "    from urllib.request import urlretrieve as urlretrieve  "
   ]
  },
  {
   "cell_type": "code",
   "execution_count": 43,
   "metadata": {},
   "outputs": [],
   "source": [
    "import requests\n",
    "import os\n",
    "import json"
   ]
  },
  {
   "cell_type": "code",
   "execution_count": 105,
   "metadata": {},
   "outputs": [],
   "source": [
    "def extractOpenStreetCamImagesFromTrackID(trackID, imageDir):\n",
    "    '''\n",
    "    This function takes track ID and fetches all images in that track \n",
    "    from OpenStreetCam and saves them into a new folder in the specified\n",
    "    directory.\n",
    "    '''\n",
    "    oscbaseurl = 'http://openstreetcam.org/details'\n",
    "    response = requests.post(oscbaseurl, data = {'id':trackID})\n",
    "    jsonData = json.loads(response.text)\n",
    "    photoData = jsonData['osv']['photos']\n",
    "    trackDir = imageDir + '/' + str(trackID)\n",
    "    if not os.path.isdir(trackDir):\n",
    "        os.mkdir(trackDir)\n",
    "    baseurl = 'https://openstreetcam.org'\n",
    "    [urlretrieve(baseurl +'/'+  p['name'], trackDir +'/'+ str(trackID) + '_' + p['fileName']) for p in photoData]"
   ]
  },
  {
   "cell_type": "code",
   "execution_count": 106,
   "metadata": {},
   "outputs": [],
   "source": [
    "def getNearbytracks(lat, lng):\n",
    "    '''\n",
    "    This function takes a decimal degree latitude/longitude \n",
    "    pair as two strings and returns nearby OpenStreetCam \n",
    "    tracks as a list of sequence_ids.\n",
    "    '''\n",
    "    url = 'http://openstreetcam.org/nearby-tracks'\n",
    "    \n",
    "    sequence_ids = []\n",
    "    \n",
    "    # form data to be sent to API\n",
    "    data = {'lat': lat, 'lng': lng, 'distance': '5.0',\n",
    "           'myTracks': 'false', 'filterUserNames': 'false'}\n",
    "        \n",
    "    # sending post request and saving response as response object\n",
    "    r = requests.post(url=url, data=data)\n",
    "        \n",
    "    # extracting data in json format\n",
    "    extract = r.json()\n",
    "    \n",
    "    # if nearby tracks exist, store them in a list\n",
    "    try:\n",
    "        sequences = extract['osv']['sequences'] # indexes post request json with nearby tracks\n",
    "        for i in range(len(sequences)): \n",
    "            sequence_ids.append(sequences[i]['sequence_id'])\n",
    "    except:\n",
    "        pass\n",
    "    \n",
    "    return sequence_ids"
   ]
  },
  {
   "cell_type": "code",
   "execution_count": 107,
   "metadata": {},
   "outputs": [],
   "source": [
    "def getGeoDataFrameFromShpFileZipUrl(url):\n",
    "    '''\n",
    "    This function downloads the zip file, unzips it into the dorectory \n",
    "    pointed to by PUIdata environment variable. Then it \n",
    "    reads it into a gepandas dataframe\n",
    "    '''\n",
    "    filenames = ! ls $PUIDATA | grep .shphf\n",
    "    urlretrieve(url, \"file.gz\")\n",
    "    os.system('unzip -d $PUIDATA '+'file.gz')\n",
    "    filenames2 = ! ls $PUIDATA | grep .shp\n",
    "    shapeFile = list(set(filenames2).difference(filenames))[0]\n",
    "    shapeFilePath = os.getenv('PUIDATA') + '/' + shapeFile\n",
    "    return gpd.GeoDataFrame.from_file(shapeFilePath)"
   ]
  },
  {
   "cell_type": "code",
   "execution_count": 108,
   "metadata": {},
   "outputs": [],
   "source": [
    "#Set environment variable\n",
    "os.environ[\"PUIDATA\"] = '/home/urwa/PUI/PUIData'"
   ]
  },
  {
   "cell_type": "markdown",
   "metadata": {},
   "source": [
    "### Get points on streets"
   ]
  },
  {
   "cell_type": "code",
   "execution_count": 70,
   "metadata": {},
   "outputs": [],
   "source": [
    "shpurl = 'https://data.cityofnewyork.us/api/geospatial/exjm-f27b?method=export&format=Shapefile'\n",
    "streets_shp = getGeoDataFrameFromShpFileZipUrl(shpurl)"
   ]
  },
  {
   "cell_type": "code",
   "execution_count": 71,
   "metadata": {},
   "outputs": [
    {
     "name": "stdout",
     "output_type": "stream",
     "text": [
      "(1707,)\n"
     ]
    }
   ],
   "source": [
    "mh_streets = streets_shp[(streets_shp[\"borocode\"]==\"1\") & \\\n",
    "                         (streets_shp[\"st_width\"]>20)&(streets_shp[\"st_width\"]<30)]['geometry']\n",
    "print(mh_streets.shape)"
   ]
  },
  {
   "cell_type": "markdown",
   "metadata": {},
   "source": [
    "### Get relevant track ids"
   ]
  },
  {
   "cell_type": "code",
   "execution_count": 82,
   "metadata": {},
   "outputs": [
    {
     "name": "stdout",
     "output_type": "stream",
     "text": [
      "1\n",
      "101\n",
      "201\n",
      "301\n",
      "401\n",
      "501\n",
      "601\n",
      "701\n",
      "801\n",
      "901\n",
      "1001\n",
      "1101\n",
      "1201\n",
      "1301\n",
      "1401\n",
      "1501\n",
      "1601\n",
      "1701\n",
      "CPU times: user 17.7 s, sys: 1.12 s, total: 18.8 s\n",
      "Wall time: 21min 22s\n"
     ]
    }
   ],
   "source": [
    "%%time\n",
    "t=0\n",
    "trackList=[]\n",
    "for street in mh_streets.get_values():\n",
    "    if t % 100 == 1:\n",
    "        print(t)\n",
    "    t += 1\n",
    "    for i in np.arange(0,len(street.xy[0]),5):\n",
    "        lon = street.xy[0][i]\n",
    "        lat = street.xy[1][i]\n",
    "        trackList += getNearbytracks(lat, lon)\n",
    "trackList = list(set(trackList))"
   ]
  },
  {
   "cell_type": "code",
   "execution_count": 109,
   "metadata": {},
   "outputs": [
    {
     "data": {
      "text/plain": [
       "152"
      ]
     },
     "execution_count": 109,
     "metadata": {},
     "output_type": "execute_result"
    }
   ],
   "source": [
    "len(trackList)"
   ]
  },
  {
   "cell_type": "markdown",
   "metadata": {},
   "source": [
    "### Collect Images from track ids"
   ]
  },
  {
   "cell_type": "code",
   "execution_count": 1,
   "metadata": {},
   "outputs": [],
   "source": [
    "for tid in trackList:\n",
    "    if tid not in ['525573','1301739','12583','1294039']:\n",
    "        print(tid)\n",
    "        extractOpenStreetCamImagesFromTrackID(tid, 'Images')"
   ]
  },
  {
   "cell_type": "code",
   "execution_count": null,
   "metadata": {},
   "outputs": [],
   "source": []
  }
 ],
 "metadata": {
  "kernelspec": {
   "display_name": "Python 3",
   "language": "python",
   "name": "python3"
  },
  "language_info": {
   "codemirror_mode": {
    "name": "ipython",
    "version": 3
   },
   "file_extension": ".py",
   "mimetype": "text/x-python",
   "name": "python",
   "nbconvert_exporter": "python",
   "pygments_lexer": "ipython3",
   "version": "3.6.6"
  }
 },
 "nbformat": 4,
 "nbformat_minor": 2
}
