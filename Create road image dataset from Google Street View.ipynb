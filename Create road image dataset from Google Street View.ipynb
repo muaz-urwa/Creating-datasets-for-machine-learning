{
 "cells": [
  {
   "cell_type": "markdown",
   "metadata": {},
   "source": [
    "### Road image dataset from Google Street View\n",
    "This notebook does the following:\n",
    "- Get geo coordinates along the roads in New york from new york streets shape file\n",
    "- Uses these coordinates to extract images from google street view"
   ]
  },
  {
   "cell_type": "code",
   "execution_count": 1,
   "metadata": {},
   "outputs": [],
   "source": [
    "import numpy as np\n",
    "import matplotlib.pyplot as plt\n",
    "import geopandas as gpd\n",
    "import shapely\n",
    "from fiona.crs import from_epsg\n",
    "from PIL import Image\n",
    "\n",
    "try:\n",
    "    from urllib import urlretrieve as urlretrieve\n",
    "except ImportError:\n",
    "    from urllib.request import urlretrieve as urlretrieve\n",
    "    \n",
    "%matplotlib inline"
   ]
  },
  {
   "cell_type": "code",
   "execution_count": 1,
   "metadata": {},
   "outputs": [],
   "source": [
    "ImageDirectory = 'Images2/' # directory to store images\n",
    "api_key = \"Insert Key Here\" # google street view api key"
   ]
  },
  {
   "cell_type": "code",
   "execution_count": 2,
   "metadata": {},
   "outputs": [],
   "source": [
    "def show_image(image):\n",
    "    '''\n",
    "    function to display a image within the environment\n",
    "    \n",
    "    parameters:\n",
    "    image : path of the image to be displayed\n",
    "    ''' \n",
    "    image = Image.open(image)\n",
    "    f,ax = plt.subplots(figsize=(5, 5))\n",
    "    plt.imshow(image)\n",
    "    ax.set_axis_off()"
   ]
  },
  {
   "cell_type": "markdown",
   "metadata": {},
   "source": [
    "### Download NYC Streets shapefile to get geocordinates along the streets"
   ]
  },
  {
   "cell_type": "code",
   "execution_count": 4,
   "metadata": {},
   "outputs": [
    {
     "data": {
      "text/plain": [
       "('streets.gz', <http.client.HTTPMessage at 0x7f15b9953e10>)"
      ]
     },
     "execution_count": 4,
     "metadata": {},
     "output_type": "execute_result"
    }
   ],
   "source": [
    "urlretrieve(\"https://data.cityofnewyork.us/api/geospatial/exjm-f27b?method=export&format=Shapefile\", \"streets.gz\")"
   ]
  },
  {
   "cell_type": "code",
   "execution_count": 5,
   "metadata": {},
   "outputs": [
    {
     "name": "stdout",
     "output_type": "stream",
     "text": [
      "Archive:  streets.gz\n",
      "  inflating: geo_export_288bbd6e-6143-4abc-acb4-29db2a192a05.dbf  \n",
      "  inflating: geo_export_288bbd6e-6143-4abc-acb4-29db2a192a05.shp  \n",
      "  inflating: geo_export_288bbd6e-6143-4abc-acb4-29db2a192a05.shx  \n",
      "  inflating: geo_export_288bbd6e-6143-4abc-acb4-29db2a192a05.prj  \n"
     ]
    }
   ],
   "source": [
    "!unzip streets.gz"
   ]
  },
  {
   "cell_type": "code",
   "execution_count": 3,
   "metadata": {},
   "outputs": [],
   "source": [
    "streets_shp = gpd.read_file(\"geo_export_288bbd6e-6143-4abc-acb4-29db2a192a05.shp\")"
   ]
  },
  {
   "cell_type": "markdown",
   "metadata": {},
   "source": [
    "### Select all streets in Manhattan only with ~ 25-50 percentile street width"
   ]
  },
  {
   "cell_type": "code",
   "execution_count": 4,
   "metadata": {},
   "outputs": [
    {
     "data": {
      "text/html": [
       "<div>\n",
       "<style scoped>\n",
       "    .dataframe tbody tr th:only-of-type {\n",
       "        vertical-align: middle;\n",
       "    }\n",
       "\n",
       "    .dataframe tbody tr th {\n",
       "        vertical-align: top;\n",
       "    }\n",
       "\n",
       "    .dataframe thead th {\n",
       "        text-align: right;\n",
       "    }\n",
       "</style>\n",
       "<table border=\"1\" class=\"dataframe\">\n",
       "  <thead>\n",
       "    <tr style=\"text-align: right;\">\n",
       "      <th></th>\n",
       "      <th>frm_lvl_co</th>\n",
       "      <th>l_blkfc_id</th>\n",
       "      <th>physicalid</th>\n",
       "      <th>r_blkfc_id</th>\n",
       "      <th>rw_type</th>\n",
       "      <th>shape_leng</th>\n",
       "      <th>st_width</th>\n",
       "      <th>to_lvl_co</th>\n",
       "    </tr>\n",
       "  </thead>\n",
       "  <tbody>\n",
       "    <tr>\n",
       "      <th>count</th>\n",
       "      <td>13316.000000</td>\n",
       "      <td>1.331600e+04</td>\n",
       "      <td>13316.000000</td>\n",
       "      <td>1.331600e+04</td>\n",
       "      <td>13316.000000</td>\n",
       "      <td>13316.000000</td>\n",
       "      <td>13316.000000</td>\n",
       "      <td>13316.000000</td>\n",
       "    </tr>\n",
       "    <tr>\n",
       "      <th>mean</th>\n",
       "      <td>13.410859</td>\n",
       "      <td>9.451733e+08</td>\n",
       "      <td>74799.610844</td>\n",
       "      <td>9.437973e+08</td>\n",
       "      <td>2.525608</td>\n",
       "      <td>346.145449</td>\n",
       "      <td>31.465605</td>\n",
       "      <td>13.421072</td>\n",
       "    </tr>\n",
       "    <tr>\n",
       "      <th>std</th>\n",
       "      <td>1.974741</td>\n",
       "      <td>5.508365e+08</td>\n",
       "      <td>65248.460461</td>\n",
       "      <td>5.510721e+08</td>\n",
       "      <td>3.035554</td>\n",
       "      <td>579.748553</td>\n",
       "      <td>18.884333</td>\n",
       "      <td>1.981932</td>\n",
       "    </tr>\n",
       "    <tr>\n",
       "      <th>min</th>\n",
       "      <td>4.000000</td>\n",
       "      <td>0.000000e+00</td>\n",
       "      <td>3.000000</td>\n",
       "      <td>0.000000e+00</td>\n",
       "      <td>1.000000</td>\n",
       "      <td>4.511256</td>\n",
       "      <td>0.000000</td>\n",
       "      <td>4.000000</td>\n",
       "    </tr>\n",
       "    <tr>\n",
       "      <th>25%</th>\n",
       "      <td>13.000000</td>\n",
       "      <td>2.122616e+08</td>\n",
       "      <td>3853.750000</td>\n",
       "      <td>2.122617e+08</td>\n",
       "      <td>1.000000</td>\n",
       "      <td>122.082389</td>\n",
       "      <td>22.000000</td>\n",
       "      <td>13.000000</td>\n",
       "    </tr>\n",
       "    <tr>\n",
       "      <th>50%</th>\n",
       "      <td>13.000000</td>\n",
       "      <td>1.222605e+09</td>\n",
       "      <td>77316.500000</td>\n",
       "      <td>1.222605e+09</td>\n",
       "      <td>1.000000</td>\n",
       "      <td>260.746213</td>\n",
       "      <td>30.000000</td>\n",
       "      <td>13.000000</td>\n",
       "    </tr>\n",
       "    <tr>\n",
       "      <th>75%</th>\n",
       "      <td>13.000000</td>\n",
       "      <td>1.322603e+09</td>\n",
       "      <td>133026.250000</td>\n",
       "      <td>1.322603e+09</td>\n",
       "      <td>3.000000</td>\n",
       "      <td>417.116432</td>\n",
       "      <td>42.000000</td>\n",
       "      <td>13.000000</td>\n",
       "    </tr>\n",
       "    <tr>\n",
       "      <th>max</th>\n",
       "      <td>26.000000</td>\n",
       "      <td>1.922616e+09</td>\n",
       "      <td>185075.000000</td>\n",
       "      <td>1.922616e+09</td>\n",
       "      <td>14.000000</td>\n",
       "      <td>26573.752668</td>\n",
       "      <td>120.000000</td>\n",
       "      <td>26.000000</td>\n",
       "    </tr>\n",
       "  </tbody>\n",
       "</table>\n",
       "</div>"
      ],
      "text/plain": [
       "         frm_lvl_co    l_blkfc_id     physicalid    r_blkfc_id       rw_type  \\\n",
       "count  13316.000000  1.331600e+04   13316.000000  1.331600e+04  13316.000000   \n",
       "mean      13.410859  9.451733e+08   74799.610844  9.437973e+08      2.525608   \n",
       "std        1.974741  5.508365e+08   65248.460461  5.510721e+08      3.035554   \n",
       "min        4.000000  0.000000e+00       3.000000  0.000000e+00      1.000000   \n",
       "25%       13.000000  2.122616e+08    3853.750000  2.122617e+08      1.000000   \n",
       "50%       13.000000  1.222605e+09   77316.500000  1.222605e+09      1.000000   \n",
       "75%       13.000000  1.322603e+09  133026.250000  1.322603e+09      3.000000   \n",
       "max       26.000000  1.922616e+09  185075.000000  1.922616e+09     14.000000   \n",
       "\n",
       "         shape_leng      st_width     to_lvl_co  \n",
       "count  13316.000000  13316.000000  13316.000000  \n",
       "mean     346.145449     31.465605     13.421072  \n",
       "std      579.748553     18.884333      1.981932  \n",
       "min        4.511256      0.000000      4.000000  \n",
       "25%      122.082389     22.000000     13.000000  \n",
       "50%      260.746213     30.000000     13.000000  \n",
       "75%      417.116432     42.000000     13.000000  \n",
       "max    26573.752668    120.000000     26.000000  "
      ]
     },
     "execution_count": 4,
     "metadata": {},
     "output_type": "execute_result"
    }
   ],
   "source": [
    "streets_shp[(streets_shp[\"borocode\"]==\"1\")].describe()"
   ]
  },
  {
   "cell_type": "code",
   "execution_count": 5,
   "metadata": {},
   "outputs": [
    {
     "data": {
      "text/html": [
       "<div>\n",
       "<style scoped>\n",
       "    .dataframe tbody tr th:only-of-type {\n",
       "        vertical-align: middle;\n",
       "    }\n",
       "\n",
       "    .dataframe tbody tr th {\n",
       "        vertical-align: top;\n",
       "    }\n",
       "\n",
       "    .dataframe thead th {\n",
       "        text-align: right;\n",
       "    }\n",
       "</style>\n",
       "<table border=\"1\" class=\"dataframe\">\n",
       "  <thead>\n",
       "    <tr style=\"text-align: right;\">\n",
       "      <th></th>\n",
       "      <th>bike_lane</th>\n",
       "      <th>bike_trafd</th>\n",
       "      <th>borocode</th>\n",
       "      <th>date_creat</th>\n",
       "      <th>time_creat</th>\n",
       "      <th>frm_lvl_co</th>\n",
       "      <th>full_stree</th>\n",
       "      <th>l_blkfc_id</th>\n",
       "      <th>l_high_hn</th>\n",
       "      <th>l_low_hn</th>\n",
       "      <th>...</th>\n",
       "      <th>rw_type</th>\n",
       "      <th>shape_leng</th>\n",
       "      <th>snow_pri</th>\n",
       "      <th>st_label</th>\n",
       "      <th>st_name</th>\n",
       "      <th>st_width</th>\n",
       "      <th>status</th>\n",
       "      <th>to_lvl_co</th>\n",
       "      <th>trafdir</th>\n",
       "      <th>geometry</th>\n",
       "    </tr>\n",
       "  </thead>\n",
       "  <tbody>\n",
       "    <tr>\n",
       "      <th>0</th>\n",
       "      <td>None</td>\n",
       "      <td>None</td>\n",
       "      <td>2</td>\n",
       "      <td>2014-08-19</td>\n",
       "      <td>00:00:00.000</td>\n",
       "      <td>13.0</td>\n",
       "      <td>MITSUBISHI WILD WETLAND TRL</td>\n",
       "      <td>0.000000e+00</td>\n",
       "      <td>None</td>\n",
       "      <td>None</td>\n",
       "      <td>...</td>\n",
       "      <td>6.0</td>\n",
       "      <td>1026.077523</td>\n",
       "      <td>None</td>\n",
       "      <td>MITSUBISHI WILD WETLAND TRL</td>\n",
       "      <td>MITSUBISHI WILD WETLAND</td>\n",
       "      <td>0.0</td>\n",
       "      <td>2</td>\n",
       "      <td>13.0</td>\n",
       "      <td>NV</td>\n",
       "      <td>LINESTRING (-73.87861544017795 40.861915301539...</td>\n",
       "    </tr>\n",
       "    <tr>\n",
       "      <th>1</th>\n",
       "      <td>None</td>\n",
       "      <td>None</td>\n",
       "      <td>4</td>\n",
       "      <td>2007-11-29</td>\n",
       "      <td>00:00:00.000</td>\n",
       "      <td>13.0</td>\n",
       "      <td>28 AVE</td>\n",
       "      <td>1.122612e+08</td>\n",
       "      <td>215-027</td>\n",
       "      <td>215-001</td>\n",
       "      <td>...</td>\n",
       "      <td>1.0</td>\n",
       "      <td>258.859740</td>\n",
       "      <td>H</td>\n",
       "      <td>28 AV</td>\n",
       "      <td>28</td>\n",
       "      <td>35.0</td>\n",
       "      <td>2</td>\n",
       "      <td>13.0</td>\n",
       "      <td>TW</td>\n",
       "      <td>LINESTRING (-73.7729030190404 40.7778042809822...</td>\n",
       "    </tr>\n",
       "    <tr>\n",
       "      <th>2</th>\n",
       "      <td>2</td>\n",
       "      <td>TW</td>\n",
       "      <td>3</td>\n",
       "      <td>2007-11-29</td>\n",
       "      <td>00:00:00.000</td>\n",
       "      <td>13.0</td>\n",
       "      <td>SCHERMERHORN ST</td>\n",
       "      <td>1.922604e+09</td>\n",
       "      <td>399</td>\n",
       "      <td>317</td>\n",
       "      <td>...</td>\n",
       "      <td>1.0</td>\n",
       "      <td>609.424375</td>\n",
       "      <td>C</td>\n",
       "      <td>SCHERMERHORN ST</td>\n",
       "      <td>SCHERMERHORN</td>\n",
       "      <td>50.0</td>\n",
       "      <td>2</td>\n",
       "      <td>13.0</td>\n",
       "      <td>TW</td>\n",
       "      <td>LINESTRING (-73.98181677514282 40.687329801759...</td>\n",
       "    </tr>\n",
       "    <tr>\n",
       "      <th>3</th>\n",
       "      <td>None</td>\n",
       "      <td>None</td>\n",
       "      <td>4</td>\n",
       "      <td>2007-11-29</td>\n",
       "      <td>00:00:00.000</td>\n",
       "      <td>13.0</td>\n",
       "      <td>QUEENS BLVD</td>\n",
       "      <td>9.226172e+07</td>\n",
       "      <td>120-011</td>\n",
       "      <td>120-011</td>\n",
       "      <td>...</td>\n",
       "      <td>1.0</td>\n",
       "      <td>47.399228</td>\n",
       "      <td>C</td>\n",
       "      <td>QUEENS BLVD</td>\n",
       "      <td>QUEENS</td>\n",
       "      <td>40.0</td>\n",
       "      <td>2</td>\n",
       "      <td>13.0</td>\n",
       "      <td>TF</td>\n",
       "      <td>LINESTRING (-73.8300230194527 40.7140059978106...</td>\n",
       "    </tr>\n",
       "    <tr>\n",
       "      <th>4</th>\n",
       "      <td>None</td>\n",
       "      <td>None</td>\n",
       "      <td>2</td>\n",
       "      <td>2007-11-29</td>\n",
       "      <td>00:00:00.000</td>\n",
       "      <td>13.0</td>\n",
       "      <td>ARLINGTON AVE</td>\n",
       "      <td>1.522605e+09</td>\n",
       "      <td>5699</td>\n",
       "      <td>5631</td>\n",
       "      <td>...</td>\n",
       "      <td>1.0</td>\n",
       "      <td>454.932922</td>\n",
       "      <td>H</td>\n",
       "      <td>ARLINGTON AV</td>\n",
       "      <td>ARLINGTON</td>\n",
       "      <td>42.0</td>\n",
       "      <td>2</td>\n",
       "      <td>13.0</td>\n",
       "      <td>TW</td>\n",
       "      <td>LINESTRING (-73.90711253281893 40.905186250792...</td>\n",
       "    </tr>\n",
       "  </tbody>\n",
       "</table>\n",
       "<p>5 rows × 34 columns</p>\n",
       "</div>"
      ],
      "text/plain": [
       "  bike_lane bike_trafd borocode  date_creat    time_creat  frm_lvl_co  \\\n",
       "0      None       None        2  2014-08-19  00:00:00.000        13.0   \n",
       "1      None       None        4  2007-11-29  00:00:00.000        13.0   \n",
       "2         2         TW        3  2007-11-29  00:00:00.000        13.0   \n",
       "3      None       None        4  2007-11-29  00:00:00.000        13.0   \n",
       "4      None       None        2  2007-11-29  00:00:00.000        13.0   \n",
       "\n",
       "                    full_stree    l_blkfc_id l_high_hn l_low_hn  \\\n",
       "0  MITSUBISHI WILD WETLAND TRL  0.000000e+00      None     None   \n",
       "1                       28 AVE  1.122612e+08   215-027  215-001   \n",
       "2              SCHERMERHORN ST  1.922604e+09       399      317   \n",
       "3                  QUEENS BLVD  9.226172e+07   120-011  120-011   \n",
       "4                ARLINGTON AVE  1.522605e+09      5699     5631   \n",
       "\n",
       "                         ...                         rw_type   shape_leng  \\\n",
       "0                        ...                             6.0  1026.077523   \n",
       "1                        ...                             1.0   258.859740   \n",
       "2                        ...                             1.0   609.424375   \n",
       "3                        ...                             1.0    47.399228   \n",
       "4                        ...                             1.0   454.932922   \n",
       "\n",
       "  snow_pri                     st_label                  st_name st_width  \\\n",
       "0     None  MITSUBISHI WILD WETLAND TRL  MITSUBISHI WILD WETLAND      0.0   \n",
       "1        H                        28 AV                       28     35.0   \n",
       "2        C              SCHERMERHORN ST             SCHERMERHORN     50.0   \n",
       "3        C                  QUEENS BLVD                   QUEENS     40.0   \n",
       "4        H                 ARLINGTON AV                ARLINGTON     42.0   \n",
       "\n",
       "  status to_lvl_co trafdir                                           geometry  \n",
       "0      2      13.0      NV  LINESTRING (-73.87861544017795 40.861915301539...  \n",
       "1      2      13.0      TW  LINESTRING (-73.7729030190404 40.7778042809822...  \n",
       "2      2      13.0      TW  LINESTRING (-73.98181677514282 40.687329801759...  \n",
       "3      2      13.0      TF  LINESTRING (-73.8300230194527 40.7140059978106...  \n",
       "4      2      13.0      TW  LINESTRING (-73.90711253281893 40.905186250792...  \n",
       "\n",
       "[5 rows x 34 columns]"
      ]
     },
     "execution_count": 5,
     "metadata": {},
     "output_type": "execute_result"
    }
   ],
   "source": [
    "streets_shp.head()"
   ]
  },
  {
   "cell_type": "code",
   "execution_count": 6,
   "metadata": {},
   "outputs": [
    {
     "data": {
      "text/plain": [
       "<matplotlib.axes._subplots.AxesSubplot at 0x7f1a9166af28>"
      ]
     },
     "execution_count": 6,
     "metadata": {},
     "output_type": "execute_result"
    },
    {
     "data": {
      "image/png": "[encoded data removed]",
      "text/plain": [
       "<Figure size 432x288 with 1 Axes>"
      ]
     },
     "metadata": {
      "needs_background": "light"
     },
     "output_type": "display_data"
    }
   ],
   "source": [
    "streets_shp[(streets_shp[\"borocode\"]==\"1\")&(streets_shp[\"st_width\"]>20)&(streets_shp[\"st_width\"]<30)].plot()"
   ]
  },
  {
   "cell_type": "code",
   "execution_count": 7,
   "metadata": {},
   "outputs": [],
   "source": [
    "mh_streets = streets_shp[(streets_shp[\"borocode\"]==\"1\")&(streets_shp[\"st_width\"]>20)&(streets_shp[\"st_width\"]<30)]['geometry']"
   ]
  },
  {
   "cell_type": "code",
   "execution_count": 30,
   "metadata": {},
   "outputs": [],
   "source": [
    "mh_streets = streets_shp[(streets_shp[\"st_width\"]>20)&(streets_shp[\"st_width\"]<30)]['geometry']"
   ]
  },
  {
   "cell_type": "code",
   "execution_count": 8,
   "metadata": {},
   "outputs": [
    {
     "data": {
      "text/plain": [
       "(1707,)"
      ]
     },
     "execution_count": 8,
     "metadata": {},
     "output_type": "execute_result"
    }
   ],
   "source": [
    "mh_streets.shape"
   ]
  },
  {
   "cell_type": "code",
   "execution_count": 15,
   "metadata": {},
   "outputs": [
    {
     "name": "stdout",
     "output_type": "stream",
     "text": [
      "CPU times: user 7 µs, sys: 0 ns, total: 7 µs\n",
      "Wall time: 10.5 µs\n"
     ]
    }
   ],
   "source": [
    "%%time\n",
    "index = range(1707)"
   ]
  },
  {
   "cell_type": "markdown",
   "metadata": {},
   "source": [
    "### Download images along the streets. At each point four images for four angles are taken (90,180,270,360).\n",
    "#### Filename will be \"lat_lon_angle.png\""
   ]
  },
  {
   "cell_type": "code",
   "execution_count": 17,
   "metadata": {},
   "outputs": [
    {
     "name": "stdout",
     "output_type": "stream",
     "text": [
      "1\n",
      "101\n",
      "201\n",
      "301\n",
      "401\n",
      "501\n",
      "601\n",
      "701\n",
      "CPU times: user 1min 38s, sys: 7.1 s, total: 1min 45s\n",
      "Wall time: 15min 49s\n"
     ]
    }
   ],
   "source": [
    "%%time\n",
    "t=0\n",
    "\n",
    "for street in mh_streets.get_values()[index]:\n",
    "    if t % 100 == 1:\n",
    "        print(t)\n",
    "    t += 1\n",
    "    for i in np.arange(0,len(street.xy[0]),5):\n",
    "        x = street.xy[0][i]\n",
    "        y = street.xy[1][i]\n",
    "        point = shapely.geometry.Point(x,y)\n",
    "        urlretrieve(\"https://maps.googleapis.com/maps/api/streetview?size=600x600&location=\"+str(point.y)+\",\"+str(point.x)+\"&fov=90&heading=90&pitch=10&key=\"+api_key, ImageDirectory+str(point.y)+\"_\"+str(point.x)+\"_90.png\")\n",
    "        urlretrieve(\"https://maps.googleapis.com/maps/api/streetview?size=600x600&location=\"+str(point.y)+\",\"+str(point.x)+\"&fov=90&heading=180&pitch=10&key=\"+api_key, ImageDirectory+str(point.y)+\"_\"+str(point.x)+\"_180.png\")\n",
    "        urlretrieve(\"https://maps.googleapis.com/maps/api/streetview?size=600x600&location=\"+str(point.y)+\",\"+str(point.x)+\"&fov=90&heading=270&pitch=10&key=\"+api_key, ImageDirectory+str(point.y)+\"_\"+str(point.x)+\"_270.png\")\n",
    "        urlretrieve(\"https://maps.googleapis.com/maps/api/streetview?size=600x600&location=\"+str(point.y)+\",\"+str(point.x)+\"&fov=90&heading=360&pitch=10&key=\"+api_key, ImageDirectory+str(point.y)+\"_\"+str(point.x)+\"_360.png\")"
   ]
  },
  {
   "cell_type": "code",
   "execution_count": null,
   "metadata": {},
   "outputs": [],
   "source": []
  }
 ],
 "metadata": {
  "kernelspec": {
   "display_name": "Python 3",
   "language": "python",
   "name": "python3"
  },
  "language_info": {
   "codemirror_mode": {
    "name": "ipython",
    "version": 3
   },
   "file_extension": ".py",
   "mimetype": "text/x-python",
   "name": "python",
   "nbconvert_exporter": "python",
   "pygments_lexer": "ipython3",
   "version": "3.6.6"
  }
 },
 "nbformat": 4,
 "nbformat_minor": 2
}
